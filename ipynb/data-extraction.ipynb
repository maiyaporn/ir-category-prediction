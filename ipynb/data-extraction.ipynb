{
 "metadata": {
  "name": ""
 },
 "nbformat": 3,
 "nbformat_minor": 0,
 "worksheets": [
  {
   "cells": [
    {
     "cell_type": "code",
     "collapsed": false,
     "input": [
      "from pandas import *\n",
      "import json\n",
      "import numpy as np\n",
      "import matplotlib.pyplot as plt"
     ],
     "language": "python",
     "metadata": {},
     "outputs": [],
     "prompt_number": 1
    },
    {
     "cell_type": "code",
     "collapsed": false,
     "input": [
      "ls"
     ],
     "language": "python",
     "metadata": {},
     "outputs": [
      {
       "output_type": "stream",
       "stream": "stdout",
       "text": [
        "data-extraction.ipynb\r\n"
       ]
      }
     ],
     "prompt_number": 2
    },
    {
     "cell_type": "code",
     "collapsed": false,
     "input": [
      "dataset_dir = '../dataset/yelp_dataset_challenge_academic_dataset/'\n",
      "file_business = 'yelp_academic_dataset_business.json'\n",
      "file_review = 'yelp_academic_dataset_review.json'\n",
      "#file_user = 'yelp_academic_dataset_user.json'\n",
      "#file_tip = 'yelp_academic_dataset_tip.json'\n",
      "#file_checkin = 'yelp_academic_dataset_checkin.json'"
     ],
     "language": "python",
     "metadata": {},
     "outputs": [],
     "prompt_number": 3
    },
    {
     "cell_type": "code",
     "collapsed": false,
     "input": [
      "out_dir = '../out/'"
     ],
     "language": "python",
     "metadata": {},
     "outputs": [],
     "prompt_number": 4
    },
    {
     "cell_type": "heading",
     "level": 3,
     "metadata": {},
     "source": [
      "Business objects"
     ]
    },
    {
     "cell_type": "code",
     "collapsed": false,
     "input": [
      "business = [json.loads(line, encoding='utf-8') for line in open(dataset_dir+file_business)]\n",
      "bdf = DataFrame(business)"
     ],
     "language": "python",
     "metadata": {},
     "outputs": [],
     "prompt_number": 5
    },
    {
     "cell_type": "code",
     "collapsed": false,
     "input": [
      "bdf"
     ],
     "language": "python",
     "metadata": {},
     "outputs": [
      {
       "html": [
        "<pre>\n",
        "&lt;class 'pandas.core.frame.DataFrame'&gt;\n",
        "Int64Index: 42153 entries, 0 to 42152\n",
        "Data columns (total 15 columns):\n",
        "attributes       42153  non-null values\n",
        "business_id      42153  non-null values\n",
        "categories       42153  non-null values\n",
        "city             42153  non-null values\n",
        "full_address     42153  non-null values\n",
        "hours            42153  non-null values\n",
        "latitude         42153  non-null values\n",
        "longitude        42153  non-null values\n",
        "name             42153  non-null values\n",
        "neighborhoods    42153  non-null values\n",
        "open             42153  non-null values\n",
        "review_count     42153  non-null values\n",
        "stars            42153  non-null values\n",
        "state            42153  non-null values\n",
        "type             42153  non-null values\n",
        "dtypes: bool(1), float64(3), int64(1), object(10)\n",
        "</pre>"
       ],
       "metadata": {},
       "output_type": "pyout",
       "prompt_number": 6,
       "text": [
        "<class 'pandas.core.frame.DataFrame'>\n",
        "Int64Index: 42153 entries, 0 to 42152\n",
        "Data columns (total 15 columns):\n",
        "attributes       42153  non-null values\n",
        "business_id      42153  non-null values\n",
        "categories       42153  non-null values\n",
        "city             42153  non-null values\n",
        "full_address     42153  non-null values\n",
        "hours            42153  non-null values\n",
        "latitude         42153  non-null values\n",
        "longitude        42153  non-null values\n",
        "name             42153  non-null values\n",
        "neighborhoods    42153  non-null values\n",
        "open             42153  non-null values\n",
        "review_count     42153  non-null values\n",
        "stars            42153  non-null values\n",
        "state            42153  non-null values\n",
        "type             42153  non-null values\n",
        "dtypes: bool(1), float64(3), int64(1), object(10)"
       ]
      }
     ],
     "prompt_number": 6
    },
    {
     "cell_type": "code",
     "collapsed": false,
     "input": [
      "bdf[:5]"
     ],
     "language": "python",
     "metadata": {},
     "outputs": [
      {
       "html": [
        "<div style=\"max-height:1000px;max-width:1500px;overflow:auto;\">\n",
        "<table border=\"1\" class=\"dataframe\">\n",
        "  <thead>\n",
        "    <tr style=\"text-align: right;\">\n",
        "      <th></th>\n",
        "      <th>attributes</th>\n",
        "      <th>business_id</th>\n",
        "      <th>categories</th>\n",
        "      <th>city</th>\n",
        "      <th>full_address</th>\n",
        "      <th>hours</th>\n",
        "      <th>latitude</th>\n",
        "      <th>longitude</th>\n",
        "      <th>name</th>\n",
        "      <th>neighborhoods</th>\n",
        "      <th>open</th>\n",
        "      <th>review_count</th>\n",
        "      <th>stars</th>\n",
        "      <th>state</th>\n",
        "      <th>type</th>\n",
        "    </tr>\n",
        "  </thead>\n",
        "  <tbody>\n",
        "    <tr>\n",
        "      <th>0</th>\n",
        "      <td>                    {u'By Appointment Only': True}</td>\n",
        "      <td> vcNAWiLM4dR7D2nwwJ7nCA</td>\n",
        "      <td>                       [Doctors, Health &amp; Medical]</td>\n",
        "      <td>   Phoenix</td>\n",
        "      <td> 4840 E Indian School Rd\\nSte 101\\nPhoenix, AZ ...</td>\n",
        "      <td> {u'Thursday': {u'close': u'17:00', u'open': u'...</td>\n",
        "      <td> 33.499313</td>\n",
        "      <td>-111.983758</td>\n",
        "      <td>           Eric Goldberg, MD</td>\n",
        "      <td> []</td>\n",
        "      <td> True</td>\n",
        "      <td>  7</td>\n",
        "      <td> 3.5</td>\n",
        "      <td> AZ</td>\n",
        "      <td> business</td>\n",
        "    </tr>\n",
        "    <tr>\n",
        "      <th>1</th>\n",
        "      <td> {u'Take-out': True, u'Price Range': 1, u'Outdo...</td>\n",
        "      <td> JwUE5GmEO-sH1FuwJgKBlQ</td>\n",
        "      <td>                                     [Restaurants]</td>\n",
        "      <td> De Forest</td>\n",
        "      <td>           6162 US Highway 51\\nDe Forest, WI 53532</td>\n",
        "      <td>                                                {}</td>\n",
        "      <td> 43.238893</td>\n",
        "      <td> -89.335844</td>\n",
        "      <td>        Pine Cone Restaurant</td>\n",
        "      <td> []</td>\n",
        "      <td> True</td>\n",
        "      <td> 26</td>\n",
        "      <td> 4.0</td>\n",
        "      <td> WI</td>\n",
        "      <td> business</td>\n",
        "    </tr>\n",
        "    <tr>\n",
        "      <th>2</th>\n",
        "      <td> {u'Take-out': True, u'Outdoor Seating': False,...</td>\n",
        "      <td> uGykseHzyS5xAMWoN6YUqA</td>\n",
        "      <td>             [American (Traditional), Restaurants]</td>\n",
        "      <td> De Forest</td>\n",
        "      <td>               505 W North St\\nDe Forest, WI 53532</td>\n",
        "      <td> {u'Monday': {u'close': u'22:00', u'open': u'06...</td>\n",
        "      <td> 43.252267</td>\n",
        "      <td> -89.353437</td>\n",
        "      <td>  Deforest Family Restaurant</td>\n",
        "      <td> []</td>\n",
        "      <td> True</td>\n",
        "      <td> 16</td>\n",
        "      <td> 4.0</td>\n",
        "      <td> WI</td>\n",
        "      <td> business</td>\n",
        "    </tr>\n",
        "    <tr>\n",
        "      <th>3</th>\n",
        "      <td> {u'Take-out': True, u'Accepts Credit Cards': T...</td>\n",
        "      <td> LRKJF43s9-3jG9Lgx4zODg</td>\n",
        "      <td> [Food, Ice Cream &amp; Frozen Yogurt, Fast Food, R...</td>\n",
        "      <td> De Forest</td>\n",
        "      <td>             4910 County Rd V\\nDe Forest, WI 53532</td>\n",
        "      <td> {u'Monday': {u'close': u'22:00', u'open': u'10...</td>\n",
        "      <td> 43.251045</td>\n",
        "      <td> -89.374983</td>\n",
        "      <td>                    Culver's</td>\n",
        "      <td> []</td>\n",
        "      <td> True</td>\n",
        "      <td>  7</td>\n",
        "      <td> 4.5</td>\n",
        "      <td> WI</td>\n",
        "      <td> business</td>\n",
        "    </tr>\n",
        "    <tr>\n",
        "      <th>4</th>\n",
        "      <td> {u'Take-out': True, u'Has TV': False, u'Outdoo...</td>\n",
        "      <td> RgDg-k9S5YD_BaxMckifkg</td>\n",
        "      <td>                            [Chinese, Restaurants]</td>\n",
        "      <td> De Forest</td>\n",
        "      <td>                631 S Main St\\nDe Forest, WI 53532</td>\n",
        "      <td> {u'Monday': {u'close': u'22:00', u'open': u'11...</td>\n",
        "      <td> 43.240875</td>\n",
        "      <td> -89.343722</td>\n",
        "      <td> Chang Jiang Chinese Kitchen</td>\n",
        "      <td> []</td>\n",
        "      <td> True</td>\n",
        "      <td>  3</td>\n",
        "      <td> 4.0</td>\n",
        "      <td> WI</td>\n",
        "      <td> business</td>\n",
        "    </tr>\n",
        "  </tbody>\n",
        "</table>\n",
        "</div>"
       ],
       "metadata": {},
       "output_type": "pyout",
       "prompt_number": 7,
       "text": [
        "                                          attributes             business_id  \\\n",
        "0                     {u'By Appointment Only': True}  vcNAWiLM4dR7D2nwwJ7nCA   \n",
        "1  {u'Take-out': True, u'Price Range': 1, u'Outdo...  JwUE5GmEO-sH1FuwJgKBlQ   \n",
        "2  {u'Take-out': True, u'Outdoor Seating': False,...  uGykseHzyS5xAMWoN6YUqA   \n",
        "3  {u'Take-out': True, u'Accepts Credit Cards': T...  LRKJF43s9-3jG9Lgx4zODg   \n",
        "4  {u'Take-out': True, u'Has TV': False, u'Outdoo...  RgDg-k9S5YD_BaxMckifkg   \n",
        "\n",
        "                                          categories       city  \\\n",
        "0                        [Doctors, Health & Medical]    Phoenix   \n",
        "1                                      [Restaurants]  De Forest   \n",
        "2              [American (Traditional), Restaurants]  De Forest   \n",
        "3  [Food, Ice Cream & Frozen Yogurt, Fast Food, R...  De Forest   \n",
        "4                             [Chinese, Restaurants]  De Forest   \n",
        "\n",
        "                                        full_address  \\\n",
        "0  4840 E Indian School Rd\\nSte 101\\nPhoenix, AZ ...   \n",
        "1            6162 US Highway 51\\nDe Forest, WI 53532   \n",
        "2                505 W North St\\nDe Forest, WI 53532   \n",
        "3              4910 County Rd V\\nDe Forest, WI 53532   \n",
        "4                 631 S Main St\\nDe Forest, WI 53532   \n",
        "\n",
        "                                               hours   latitude   longitude  \\\n",
        "0  {u'Thursday': {u'close': u'17:00', u'open': u'...  33.499313 -111.983758   \n",
        "1                                                 {}  43.238893  -89.335844   \n",
        "2  {u'Monday': {u'close': u'22:00', u'open': u'06...  43.252267  -89.353437   \n",
        "3  {u'Monday': {u'close': u'22:00', u'open': u'10...  43.251045  -89.374983   \n",
        "4  {u'Monday': {u'close': u'22:00', u'open': u'11...  43.240875  -89.343722   \n",
        "\n",
        "                          name neighborhoods  open  review_count  stars state  \\\n",
        "0            Eric Goldberg, MD            []  True             7    3.5    AZ   \n",
        "1         Pine Cone Restaurant            []  True            26    4.0    WI   \n",
        "2   Deforest Family Restaurant            []  True            16    4.0    WI   \n",
        "3                     Culver's            []  True             7    4.5    WI   \n",
        "4  Chang Jiang Chinese Kitchen            []  True             3    4.0    WI   \n",
        "\n",
        "       type  \n",
        "0  business  \n",
        "1  business  \n",
        "2  business  \n",
        "3  business  \n",
        "4  business  "
       ]
      }
     ],
     "prompt_number": 7
    },
    {
     "cell_type": "heading",
     "level": 4,
     "metadata": {},
     "source": [
      "Extract only \"Restaurants\" businesses from dataset"
     ]
    },
    {
     "cell_type": "code",
     "collapsed": false,
     "input": [
      "resDf = bdf[bdf.categories.apply(lambda x: \"Restaurants\" in x)]"
     ],
     "language": "python",
     "metadata": {},
     "outputs": [],
     "prompt_number": 8
    },
    {
     "cell_type": "code",
     "collapsed": false,
     "input": [
      "resDf"
     ],
     "language": "python",
     "metadata": {},
     "outputs": [
      {
       "html": [
        "<pre>\n",
        "&lt;class 'pandas.core.frame.DataFrame'&gt;\n",
        "Int64Index: 14303 entries, 1 to 42151\n",
        "Data columns (total 15 columns):\n",
        "attributes       14303  non-null values\n",
        "business_id      14303  non-null values\n",
        "categories       14303  non-null values\n",
        "city             14303  non-null values\n",
        "full_address     14303  non-null values\n",
        "hours            14303  non-null values\n",
        "latitude         14303  non-null values\n",
        "longitude        14303  non-null values\n",
        "name             14303  non-null values\n",
        "neighborhoods    14303  non-null values\n",
        "open             14303  non-null values\n",
        "review_count     14303  non-null values\n",
        "stars            14303  non-null values\n",
        "state            14303  non-null values\n",
        "type             14303  non-null values\n",
        "dtypes: bool(1), float64(3), int64(1), object(10)\n",
        "</pre>"
       ],
       "metadata": {},
       "output_type": "pyout",
       "prompt_number": 9,
       "text": [
        "<class 'pandas.core.frame.DataFrame'>\n",
        "Int64Index: 14303 entries, 1 to 42151\n",
        "Data columns (total 15 columns):\n",
        "attributes       14303  non-null values\n",
        "business_id      14303  non-null values\n",
        "categories       14303  non-null values\n",
        "city             14303  non-null values\n",
        "full_address     14303  non-null values\n",
        "hours            14303  non-null values\n",
        "latitude         14303  non-null values\n",
        "longitude        14303  non-null values\n",
        "name             14303  non-null values\n",
        "neighborhoods    14303  non-null values\n",
        "open             14303  non-null values\n",
        "review_count     14303  non-null values\n",
        "stars            14303  non-null values\n",
        "state            14303  non-null values\n",
        "type             14303  non-null values\n",
        "dtypes: bool(1), float64(3), int64(1), object(10)"
       ]
      }
     ],
     "prompt_number": 9
    },
    {
     "cell_type": "code",
     "collapsed": false,
     "input": [
      "resDf.to_json( out_dir + 'res-business.json')"
     ],
     "language": "python",
     "metadata": {},
     "outputs": [],
     "prompt_number": 10
    },
    {
     "cell_type": "heading",
     "level": 4,
     "metadata": {},
     "source": [
      "Extract review for restaurant only"
     ]
    },
    {
     "cell_type": "code",
     "collapsed": false,
     "input": [
      "review = [json.loads(line, encoding='utf-8') for line in open(dataset_dir+file_review)]\n",
      "rdf = DataFrame(review)"
     ],
     "language": "python",
     "metadata": {},
     "outputs": [],
     "prompt_number": 11
    },
    {
     "cell_type": "code",
     "collapsed": false,
     "input": [
      "rdf"
     ],
     "language": "python",
     "metadata": {},
     "outputs": [
      {
       "html": [
        "<pre>\n",
        "&lt;class 'pandas.core.frame.DataFrame'&gt;\n",
        "Int64Index: 1125458 entries, 0 to 1125457\n",
        "Data columns (total 8 columns):\n",
        "business_id    1125458  non-null values\n",
        "date           1125458  non-null values\n",
        "review_id      1125458  non-null values\n",
        "stars          1125458  non-null values\n",
        "text           1125458  non-null values\n",
        "type           1125458  non-null values\n",
        "user_id        1125458  non-null values\n",
        "votes          1125458  non-null values\n",
        "dtypes: int64(1), object(7)\n",
        "</pre>"
       ],
       "metadata": {},
       "output_type": "pyout",
       "prompt_number": 12,
       "text": [
        "<class 'pandas.core.frame.DataFrame'>\n",
        "Int64Index: 1125458 entries, 0 to 1125457\n",
        "Data columns (total 8 columns):\n",
        "business_id    1125458  non-null values\n",
        "date           1125458  non-null values\n",
        "review_id      1125458  non-null values\n",
        "stars          1125458  non-null values\n",
        "text           1125458  non-null values\n",
        "type           1125458  non-null values\n",
        "user_id        1125458  non-null values\n",
        "votes          1125458  non-null values\n",
        "dtypes: int64(1), object(7)"
       ]
      }
     ],
     "prompt_number": 12
    },
    {
     "cell_type": "code",
     "collapsed": false,
     "input": [
      "resRevDf = rdf[rdf.business_id.isin(resDf.business_id.values)]"
     ],
     "language": "python",
     "metadata": {},
     "outputs": [],
     "prompt_number": 13
    },
    {
     "cell_type": "code",
     "collapsed": false,
     "input": [
      "resRevDf"
     ],
     "language": "python",
     "metadata": {},
     "outputs": [
      {
       "html": [
        "<pre>\n",
        "&lt;class 'pandas.core.frame.DataFrame'&gt;\n",
        "Int64Index: 706646 entries, 8 to 1125452\n",
        "Data columns (total 8 columns):\n",
        "business_id    706646  non-null values\n",
        "date           706646  non-null values\n",
        "review_id      706646  non-null values\n",
        "stars          706646  non-null values\n",
        "text           706646  non-null values\n",
        "type           706646  non-null values\n",
        "user_id        706646  non-null values\n",
        "votes          706646  non-null values\n",
        "dtypes: int64(1), object(7)\n",
        "</pre>"
       ],
       "metadata": {},
       "output_type": "pyout",
       "prompt_number": 14,
       "text": [
        "<class 'pandas.core.frame.DataFrame'>\n",
        "Int64Index: 706646 entries, 8 to 1125452\n",
        "Data columns (total 8 columns):\n",
        "business_id    706646  non-null values\n",
        "date           706646  non-null values\n",
        "review_id      706646  non-null values\n",
        "stars          706646  non-null values\n",
        "text           706646  non-null values\n",
        "type           706646  non-null values\n",
        "user_id        706646  non-null values\n",
        "votes          706646  non-null values\n",
        "dtypes: int64(1), object(7)"
       ]
      }
     ],
     "prompt_number": 14
    },
    {
     "cell_type": "code",
     "collapsed": false,
     "input": [
      "resRevDf.to_json( out_dir + 'res-review.json' )"
     ],
     "language": "python",
     "metadata": {},
     "outputs": [],
     "prompt_number": 15
    },
    {
     "cell_type": "heading",
     "level": 4,
     "metadata": {},
     "source": [
      "Explore restaurant categories"
     ]
    },
    {
     "cell_type": "code",
     "collapsed": false,
     "input": [
      "resDf.categories"
     ],
     "language": "python",
     "metadata": {},
     "outputs": [
      {
       "metadata": {},
       "output_type": "pyout",
       "prompt_number": 16,
       "text": [
        "1                                         [Restaurants]\n",
        "2                 [American (Traditional), Restaurants]\n",
        "3     [Food, Ice Cream & Frozen Yogurt, Fast Food, R...\n",
        "4                                [Chinese, Restaurants]\n",
        "8                 [American (Traditional), Restaurants]\n",
        "10    [Bars, American (Traditional), Nightlife, Loun...\n",
        "13                                 [Pizza, Restaurants]\n",
        "14                               [Chinese, Restaurants]\n",
        "16    [Party & Event Planning, Asian Fusion, Event P...\n",
        "17                               [Mexican, Restaurants]\n",
        "23      [Sandwiches, Pizza, Chicken Wings, Restaurants]\n",
        "28                               [Chinese, Restaurants]\n",
        "29    [Bakeries, Food, Breakfast & Brunch, Coffee & ...\n",
        "30       [Bars, American (New), Nightlife, Restaurants]\n",
        "31                               [Chinese, Restaurants]\n",
        "...\n",
        "42126                                 [Pizza, Restaurants]\n",
        "42127    [Food, Tea Rooms, Coffee & Tea, Asian Fusion, ...\n",
        "42128                               [Restaurants, Italian]\n",
        "42130                                 [Cafes, Restaurants]\n",
        "42136                            [Sushi Bars, Restaurants]\n",
        "42137                            [Vietnamese, Restaurants]\n",
        "42138    [Breakfast & Brunch, American (Traditional), R...\n",
        "42140                              [Filipino, Restaurants]\n",
        "42142                               [Burgers, Restaurants]\n",
        "42143                         [Chicken Wings, Restaurants]\n",
        "42144                        [American (New), Restaurants]\n",
        "42145    [Food, Juice Bars & Smoothies, American (New),...\n",
        "42146    [Bars, Turkish, Mediterranean, Nightlife, Loun...\n",
        "42148        [Food, Desserts, Italian, Pizza, Restaurants]\n",
        "42151                [Kosher, Italian, Pizza, Restaurants]\n",
        "Name: categories, Length: 14303, dtype: object"
       ]
      }
     ],
     "prompt_number": 16
    },
    {
     "cell_type": "code",
     "collapsed": false,
     "input": [
      "# Convert category list to tuple and sort items\n",
      "resDf.categories = resDf.categories.apply(lambda x: tuple(sorted(x)))"
     ],
     "language": "python",
     "metadata": {},
     "outputs": [],
     "prompt_number": 17
    },
    {
     "cell_type": "code",
     "collapsed": false,
     "input": [
      "resDf.categories.nunique()"
     ],
     "language": "python",
     "metadata": {},
     "outputs": [
      {
       "metadata": {},
       "output_type": "pyout",
       "prompt_number": 18,
       "text": [
        "2141"
       ]
      }
     ],
     "prompt_number": 18
    },
    {
     "cell_type": "code",
     "collapsed": false,
     "input": [
      "resDf.categories.unique()"
     ],
     "language": "python",
     "metadata": {},
     "outputs": [
      {
       "metadata": {},
       "output_type": "pyout",
       "prompt_number": 19,
       "text": [
        "array([(u'Restaurants',), (u'American (Traditional)', u'Restaurants'),\n",
        "       (u'Fast Food', u'Food', u'Ice Cream & Frozen Yogurt', u'Restaurants'),\n",
        "       ...,\n",
        "       (u'Asian Fusion', u'Coffee & Tea', u'Food', u'Restaurants', u'Tea Rooms'),\n",
        "       (u'American (New)', u'Food', u'Gluten-Free', u'Juice Bars & Smoothies', u'Restaurants'),\n",
        "       (u'Bars', u'Lounges', u'Mediterranean', u'Nightlife', u'Restaurants', u'Turkish')], dtype=object)"
       ]
      }
     ],
     "prompt_number": 19
    },
    {
     "cell_type": "heading",
     "level": 4,
     "metadata": {},
     "source": [
      "Extract restaurants with only 'Restaurants' tag"
     ]
    },
    {
     "cell_type": "code",
     "collapsed": false,
     "input": [
      "resDf_rescatonly = resDf[resDf.categories.apply(lambda x: len(x) == 1 and x[0] == 'Restaurants')]"
     ],
     "language": "python",
     "metadata": {},
     "outputs": [],
     "prompt_number": 20
    },
    {
     "cell_type": "code",
     "collapsed": false,
     "input": [
      "resDf_rescatonly.categories"
     ],
     "language": "python",
     "metadata": {},
     "outputs": [
      {
       "metadata": {},
       "output_type": "pyout",
       "prompt_number": 21,
       "text": [
        "1       (Restaurants,)\n",
        "71      (Restaurants,)\n",
        "90      (Restaurants,)\n",
        "98      (Restaurants,)\n",
        "266     (Restaurants,)\n",
        "329     (Restaurants,)\n",
        "372     (Restaurants,)\n",
        "1052    (Restaurants,)\n",
        "1110    (Restaurants,)\n",
        "1245    (Restaurants,)\n",
        "1343    (Restaurants,)\n",
        "1368    (Restaurants,)\n",
        "1377    (Restaurants,)\n",
        "1478    (Restaurants,)\n",
        "1579    (Restaurants,)\n",
        "...\n",
        "34191    (Restaurants,)\n",
        "34569    (Restaurants,)\n",
        "34735    (Restaurants,)\n",
        "34933    (Restaurants,)\n",
        "34991    (Restaurants,)\n",
        "35940    (Restaurants,)\n",
        "37624    (Restaurants,)\n",
        "37638    (Restaurants,)\n",
        "38402    (Restaurants,)\n",
        "38465    (Restaurants,)\n",
        "39836    (Restaurants,)\n",
        "40008    (Restaurants,)\n",
        "40066    (Restaurants,)\n",
        "40091    (Restaurants,)\n",
        "42051    (Restaurants,)\n",
        "Name: categories, Length: 223, dtype: object"
       ]
      }
     ],
     "prompt_number": 21
    },
    {
     "cell_type": "code",
     "collapsed": false,
     "input": [
      "resDf[resDf.categories.apply(lambda x: len(x) == 1)]"
     ],
     "language": "python",
     "metadata": {},
     "outputs": [
      {
       "html": [
        "<pre>\n",
        "&lt;class 'pandas.core.frame.DataFrame'&gt;\n",
        "Int64Index: 223 entries, 1 to 42051\n",
        "Data columns (total 15 columns):\n",
        "attributes       223  non-null values\n",
        "business_id      223  non-null values\n",
        "categories       223  non-null values\n",
        "city             223  non-null values\n",
        "full_address     223  non-null values\n",
        "hours            223  non-null values\n",
        "latitude         223  non-null values\n",
        "longitude        223  non-null values\n",
        "name             223  non-null values\n",
        "neighborhoods    223  non-null values\n",
        "open             223  non-null values\n",
        "review_count     223  non-null values\n",
        "stars            223  non-null values\n",
        "state            223  non-null values\n",
        "type             223  non-null values\n",
        "dtypes: bool(1), float64(3), int64(1), object(10)\n",
        "</pre>"
       ],
       "metadata": {},
       "output_type": "pyout",
       "prompt_number": 22,
       "text": [
        "<class 'pandas.core.frame.DataFrame'>\n",
        "Int64Index: 223 entries, 1 to 42051\n",
        "Data columns (total 15 columns):\n",
        "attributes       223  non-null values\n",
        "business_id      223  non-null values\n",
        "categories       223  non-null values\n",
        "city             223  non-null values\n",
        "full_address     223  non-null values\n",
        "hours            223  non-null values\n",
        "latitude         223  non-null values\n",
        "longitude        223  non-null values\n",
        "name             223  non-null values\n",
        "neighborhoods    223  non-null values\n",
        "open             223  non-null values\n",
        "review_count     223  non-null values\n",
        "stars            223  non-null values\n",
        "state            223  non-null values\n",
        "type             223  non-null values\n",
        "dtypes: bool(1), float64(3), int64(1), object(10)"
       ]
      }
     ],
     "prompt_number": 22
    },
    {
     "cell_type": "code",
     "collapsed": false,
     "input": [
      "resDf_rescatonly.to_json( out_dir + 'res-with-only-res-tag.json')"
     ],
     "language": "python",
     "metadata": {},
     "outputs": [],
     "prompt_number": 23
    },
    {
     "cell_type": "heading",
     "level": 4,
     "metadata": {},
     "source": [
      "Keep only restaurants with more than 1 tag and not 'Restaurants' tag"
     ]
    },
    {
     "cell_type": "code",
     "collapsed": false,
     "input": [
      "resDf = resDf[resDf.categories.apply(lambda x: len(x) > 1)]"
     ],
     "language": "python",
     "metadata": {},
     "outputs": [],
     "prompt_number": 24
    },
    {
     "cell_type": "code",
     "collapsed": false,
     "input": [
      "resDf"
     ],
     "language": "python",
     "metadata": {},
     "outputs": [
      {
       "html": [
        "<pre>\n",
        "&lt;class 'pandas.core.frame.DataFrame'&gt;\n",
        "Int64Index: 14080 entries, 2 to 42151\n",
        "Data columns (total 15 columns):\n",
        "attributes       14080  non-null values\n",
        "business_id      14080  non-null values\n",
        "categories       14080  non-null values\n",
        "city             14080  non-null values\n",
        "full_address     14080  non-null values\n",
        "hours            14080  non-null values\n",
        "latitude         14080  non-null values\n",
        "longitude        14080  non-null values\n",
        "name             14080  non-null values\n",
        "neighborhoods    14080  non-null values\n",
        "open             14080  non-null values\n",
        "review_count     14080  non-null values\n",
        "stars            14080  non-null values\n",
        "state            14080  non-null values\n",
        "type             14080  non-null values\n",
        "dtypes: bool(1), float64(3), int64(1), object(10)\n",
        "</pre>"
       ],
       "metadata": {},
       "output_type": "pyout",
       "prompt_number": 25,
       "text": [
        "<class 'pandas.core.frame.DataFrame'>\n",
        "Int64Index: 14080 entries, 2 to 42151\n",
        "Data columns (total 15 columns):\n",
        "attributes       14080  non-null values\n",
        "business_id      14080  non-null values\n",
        "categories       14080  non-null values\n",
        "city             14080  non-null values\n",
        "full_address     14080  non-null values\n",
        "hours            14080  non-null values\n",
        "latitude         14080  non-null values\n",
        "longitude        14080  non-null values\n",
        "name             14080  non-null values\n",
        "neighborhoods    14080  non-null values\n",
        "open             14080  non-null values\n",
        "review_count     14080  non-null values\n",
        "stars            14080  non-null values\n",
        "state            14080  non-null values\n",
        "type             14080  non-null values\n",
        "dtypes: bool(1), float64(3), int64(1), object(10)"
       ]
      }
     ],
     "prompt_number": 25
    },
    {
     "cell_type": "code",
     "collapsed": false,
     "input": [
      "resDf.categories.nunique()"
     ],
     "language": "python",
     "metadata": {},
     "outputs": [
      {
       "metadata": {},
       "output_type": "pyout",
       "prompt_number": 26,
       "text": [
        "2140"
       ]
      }
     ],
     "prompt_number": 26
    },
    {
     "cell_type": "code",
     "collapsed": false,
     "input": [
      "resDf.to_json( out_dir + 'res-with-tags.json' )"
     ],
     "language": "python",
     "metadata": {},
     "outputs": [],
     "prompt_number": 27
    },
    {
     "cell_type": "heading",
     "level": 4,
     "metadata": {},
     "source": [
      "Remove 'Restaurants' tag from each business categories"
     ]
    },
    {
     "cell_type": "code",
     "collapsed": false,
     "input": [
      "resDf.categories = resDf.categories.apply(lambda x: tuple(i for i in x if i != 'Restaurants'))"
     ],
     "language": "python",
     "metadata": {},
     "outputs": [],
     "prompt_number": 28
    },
    {
     "cell_type": "code",
     "collapsed": false,
     "input": [
      "resDf.categories"
     ],
     "language": "python",
     "metadata": {},
     "outputs": [
      {
       "metadata": {},
       "output_type": "pyout",
       "prompt_number": 29,
       "text": [
        "2                             (American (Traditional),)\n",
        "3          (Fast Food, Food, Ice Cream & Frozen Yogurt)\n",
        "4                                            (Chinese,)\n",
        "8                             (American (Traditional),)\n",
        "10    (American (Traditional), Bars, Lounges, Nightl...\n",
        "13                                             (Pizza,)\n",
        "14                                           (Chinese,)\n",
        "16    (Asian Fusion, Event Planning & Services, Part...\n",
        "17                                           (Mexican,)\n",
        "23                   (Chicken Wings, Pizza, Sandwiches)\n",
        "28                                           (Chinese,)\n",
        "29    (Bakeries, Breakfast & Brunch, Coffee & Tea, F...\n",
        "30                    (American (New), Bars, Nightlife)\n",
        "31                                           (Chinese,)\n",
        "32                                           (Chinese,)\n",
        "...\n",
        "42126                                             (Pizza,)\n",
        "42127        (Asian Fusion, Coffee & Tea, Food, Tea Rooms)\n",
        "42128                                           (Italian,)\n",
        "42130                                             (Cafes,)\n",
        "42136                                        (Sushi Bars,)\n",
        "42137                                        (Vietnamese,)\n",
        "42138         (American (Traditional), Breakfast & Brunch)\n",
        "42140                                          (Filipino,)\n",
        "42142                                           (Burgers,)\n",
        "42143                                     (Chicken Wings,)\n",
        "42144                                    (American (New),)\n",
        "42145    (American (New), Food, Gluten-Free, Juice Bars...\n",
        "42146    (Bars, Lounges, Mediterranean, Nightlife, Turk...\n",
        "42148                     (Desserts, Food, Italian, Pizza)\n",
        "42151                             (Italian, Kosher, Pizza)\n",
        "Name: categories, Length: 14080, dtype: object"
       ]
      }
     ],
     "prompt_number": 29
    },
    {
     "cell_type": "code",
     "collapsed": false,
     "input": [
      "resDf.categories.nunique()"
     ],
     "language": "python",
     "metadata": {},
     "outputs": [
      {
       "metadata": {},
       "output_type": "pyout",
       "prompt_number": 30,
       "text": [
        "2140"
       ]
      }
     ],
     "prompt_number": 30
    },
    {
     "cell_type": "heading",
     "level": 4,
     "metadata": {},
     "source": [
      "Group business by categories"
     ]
    },
    {
     "cell_type": "code",
     "collapsed": false,
     "input": [
      "resBycat = resDf.groupby('categories')\n",
      "size = resBycat.size()\n",
      "len(size)"
     ],
     "language": "python",
     "metadata": {},
     "outputs": [
      {
       "metadata": {},
       "output_type": "pyout",
       "prompt_number": 31,
       "text": [
        "2140"
       ]
      }
     ],
     "prompt_number": 31
    },
    {
     "cell_type": "code",
     "collapsed": false,
     "input": [
      "size"
     ],
     "language": "python",
     "metadata": {},
     "outputs": [
      {
       "metadata": {},
       "output_type": "pyout",
       "prompt_number": 32,
       "text": [
        "categories\n",
        "(Active Life, American (New), Arts & Entertainment, Bowling, Music Venues, Nightlife)    1\n",
        "(Active Life, American (New), Bars, Bowling, Lounges, Nightlife)    2\n",
        "(Active Life, American (New), Bars, Golf, Nightlife, Sports Bars)    1\n",
        "(Active Life, American (New), Event Planning & Services, Golf, Hotels, Hotels & Travel)    1\n",
        "(Active Life, American (New), Fashion, Golf, Shopping, Sporting Goods, Sports Wear)    1\n",
        "(Active Life, American (New), Golf)                             2\n",
        "(Active Life, American (New), Leisure Centers)                  1\n",
        "(Active Life, American (Traditional), Amusement Parks)          1\n",
        "(Active Life, American (Traditional), Arts & Entertainment, Bars, Bowling, Dance Clubs, Music Venues, Nightlife)    1\n",
        "(Active Life, American (Traditional), Bars, Golf, Nightlife, Sports Bars)    1\n",
        "(Active Life, American (Traditional), Golf)                     5\n",
        "(Active Life, Amusement Parks, Steakhouses)                     1\n",
        "(Active Life, Barbeque, Horseback Riding)                       1\n",
        "(Active Life, Beauty & Spas, Day Spas, Fitness & Instruction, Gyms, Health & Medical, Medical Spas)    1\n",
        "(Active Life, Bistros, Golf)                                    1\n",
        "...\n",
        "(Taiwanese,)                          5\n",
        "(Tapas Bars,)                        10\n",
        "(Tapas Bars, Tapas/Small Plates)      4\n",
        "(Tapas/Small Plates,)                 4\n",
        "(Tex-Mex,)                           30\n",
        "(Thai,)                             204\n",
        "(Thai, Vegan)                         1\n",
        "(Thai, Vegan, Vegetarian)             1\n",
        "(Thai, Vegetarian)                    5\n",
        "(Thai, Vietnamese)                    7\n",
        "(Turkish,)                           11\n",
        "(Vegan, Vegetarian)                   8\n",
        "(Vegetarian,)                         5\n",
        "(Vegetarian, Vietnamese)              1\n",
        "(Vietnamese,)                       102\n",
        "Length: 2140, dtype: int64"
       ]
      }
     ],
     "prompt_number": 32
    },
    {
     "cell_type": "code",
     "collapsed": false,
     "input": [
      "plt.hist(size.values, bins=10, range=[0,100])"
     ],
     "language": "python",
     "metadata": {},
     "outputs": [
      {
       "metadata": {},
       "output_type": "pyout",
       "prompt_number": 33,
       "text": [
        "(array([  1.98800000e+03,   6.00000000e+01,   3.10000000e+01,\n",
        "         1.40000000e+01,   5.00000000e+00,   8.00000000e+00,\n",
        "         5.00000000e+00,   3.00000000e+00,   3.00000000e+00,\n",
        "         1.00000000e+00]),\n",
        " array([   0.,   10.,   20.,   30.,   40.,   50.,   60.,   70.,   80.,\n",
        "         90.,  100.]),\n",
        " <a list of 10 Patch objects>)"
       ]
      },
      {
       "metadata": {},
       "output_type": "display_data",
       "png": "[encoded data removed]",
       "text": [
        "<matplotlib.figure.Figure at 0x26c735cd0>"
       ]
      }
     ],
     "prompt_number": 33
    },
    {
     "cell_type": "code",
     "collapsed": false,
     "input": [
      "plt.hist(size.values, bins=10, range=[10,100])"
     ],
     "language": "python",
     "metadata": {},
     "outputs": [
      {
       "metadata": {},
       "output_type": "pyout",
       "prompt_number": 34,
       "text": [
        "(array([ 59.,  26.,  16.,   8.,   6.,   5.,   3.,   3.,   3.,   1.]),\n",
        " array([  10.,   19.,   28.,   37.,   46.,   55.,   64.,   73.,   82.,\n",
        "         91.,  100.]),\n",
        " <a list of 10 Patch objects>)"
       ]
      },
      {
       "metadata": {},
       "output_type": "display_data",
       "png": "[encoded data removed]",
       "text": [
        "<matplotlib.figure.Figure at 0x26c6f8ad0>"
       ]
      }
     ],
     "prompt_number": 34
    },
    {
     "cell_type": "code",
     "collapsed": false,
     "input": [
      "size10 = size[size >= 10]\n",
      "size10"
     ],
     "language": "python",
     "metadata": {},
     "outputs": [
      {
       "metadata": {},
       "output_type": "pyout",
       "prompt_number": 35,
       "text": [
        "categories\n",
        "(American (New),)                                               342\n",
        "(American (New), American (Traditional))                         16\n",
        "(American (New), American (Traditional), Bars, Nightlife, Sports Bars)     10\n",
        "(American (New), American (Traditional), Desserts, Food)         11\n",
        "(American (New), Bars, Lounges, Nightlife)                       27\n",
        "(American (New), Bars, Nightlife)                                50\n",
        "(American (New), Bars, Nightlife, Pubs)                          15\n",
        "(American (New), Bars, Nightlife, Pubs, Sports Bars)             37\n",
        "(American (New), Bars, Nightlife, Sports Bars)                   28\n",
        "(American (New), Bars, Nightlife, Wine Bars)                     20\n",
        "(American (New), Breakfast & Brunch)                             23\n",
        "(American (New), Burgers)                                        15\n",
        "(American (New), Cafes)                                          11\n",
        "(American (New), French)                                         10\n",
        "(American (New), Italian)                                        11\n",
        "...\n",
        "(Pizza,)                     709\n",
        "(Pizza, Sandwiches)           22\n",
        "(Salad, Sandwiches)           13\n",
        "(Salad, Sandwiches, Soup)     21\n",
        "(Sandwiches,)                493\n",
        "(Seafood,)                    88\n",
        "(Seafood, Steakhouses)        29\n",
        "(Soul Food,)                  10\n",
        "(Steakhouses,)               145\n",
        "(Sushi Bars,)                 85\n",
        "(Tapas Bars,)                 10\n",
        "(Tex-Mex,)                    30\n",
        "(Thai,)                      204\n",
        "(Turkish,)                    11\n",
        "(Vietnamese,)                102\n",
        "Length: 152, dtype: int64"
       ]
      }
     ],
     "prompt_number": 35
    },
    {
     "cell_type": "code",
     "collapsed": false,
     "input": [
      "size10.sort(ascending=False)\n",
      "size10"
     ],
     "language": "python",
     "metadata": {},
     "outputs": [
      {
       "metadata": {},
       "output_type": "pyout",
       "prompt_number": 36,
       "text": [
        "categories\n",
        "(Mexican,)                   1230\n",
        "(Pizza,)                      709\n",
        "(Chinese,)                    616\n",
        "(Fast Food,)                  518\n",
        "(Sandwiches,)                 493\n",
        "(American (Traditional),)     431\n",
        "(Italian,)                    399\n",
        "(American (New),)             342\n",
        "(Italian, Pizza)              279\n",
        "(Burgers, Fast Food)          241\n",
        "(Burgers,)                    223\n",
        "(Thai,)                       204\n",
        "(Breakfast & Brunch,)         174\n",
        "(Japanese, Sushi Bars)        173\n",
        "(Japanese,)                   152\n",
        "...\n",
        "(Bakeries, Breakfast & Brunch, Food)                            11\n",
        "(American (New), Cafes)                                         11\n",
        "(American (New), American (Traditional), Desserts, Food)        11\n",
        "(Turkish,)                                                      11\n",
        "(Japanese, Korean)                                              11\n",
        "(Ethiopian,)                                                    11\n",
        "(American (New), American (Traditional), Bars, Nightlife, Sports Bars)    10\n",
        "(American (New), French)                                        10\n",
        "(Italian, Pizza, Salad)                                         10\n",
        "(Breakfast & Brunch, Delis, Sandwiches)                         10\n",
        "(Soul Food,)                                                    10\n",
        "(Tapas Bars,)                                                   10\n",
        "(Delis, Pizza)                                                  10\n",
        "(American (Traditional), Bars, Burgers, Nightlife, Sports Bars)    10\n",
        "(American (Traditional), Bars, Lounges, Nightlife)              10\n",
        "Length: 152, dtype: int64"
       ]
      }
     ],
     "prompt_number": 36
    },
    {
     "cell_type": "code",
     "collapsed": false,
     "input": [
      "size10.to_csv( out_dir + 'cat-size.csv' )"
     ],
     "language": "python",
     "metadata": {},
     "outputs": [],
     "prompt_number": 37
    },
    {
     "cell_type": "code",
     "collapsed": false,
     "input": [
      "top15cat = size10[:25]\n",
      "plt.figure(figsize=(8,6), dpi=120)\n",
      "idx = [i for i in range(25)]\n",
      "plt.barh(idx, top15cat.values, color='#FF9999')\n",
      "\n",
      "ytics_label = []\n",
      "for c in top15cat.index.values:\n",
      "    ytics_label.append(', '.join([i for i in c]))\n",
      "    \n",
      "plt.yticks([i + 0.4 for i in idx], ytics_label )\n",
      "plt.xlabel('Number of restaurants', fontsize='large')\n",
      "plt.savefig( out_dir + 'top25-categories.png')\n",
      "plt.show()"
     ],
     "language": "python",
     "metadata": {},
     "outputs": [
      {
       "metadata": {},
       "output_type": "display_data",
       "png": "[encoded data removed]",
       "text": [
        "<matplotlib.figure.Figure at 0x26c680710>"
       ]
      }
     ],
     "prompt_number": 40
    },
    {
     "cell_type": "code",
     "collapsed": false,
     "input": [
      "dataDf = resDf[resDf.categories.isin(size10.index.values)]\n",
      "dataDf"
     ],
     "language": "python",
     "metadata": {},
     "outputs": [
      {
       "html": [
        "<pre>\n",
        "&lt;class 'pandas.core.frame.DataFrame'&gt;\n",
        "Int64Index: 10595 entries, 2 to 42144\n",
        "Data columns (total 15 columns):\n",
        "attributes       10595  non-null values\n",
        "business_id      10595  non-null values\n",
        "categories       10595  non-null values\n",
        "city             10595  non-null values\n",
        "full_address     10595  non-null values\n",
        "hours            10595  non-null values\n",
        "latitude         10595  non-null values\n",
        "longitude        10595  non-null values\n",
        "name             10595  non-null values\n",
        "neighborhoods    10595  non-null values\n",
        "open             10595  non-null values\n",
        "review_count     10595  non-null values\n",
        "stars            10595  non-null values\n",
        "state            10595  non-null values\n",
        "type             10595  non-null values\n",
        "dtypes: bool(1), float64(3), int64(1), object(10)\n",
        "</pre>"
       ],
       "metadata": {},
       "output_type": "pyout",
       "prompt_number": 41,
       "text": [
        "<class 'pandas.core.frame.DataFrame'>\n",
        "Int64Index: 10595 entries, 2 to 42144\n",
        "Data columns (total 15 columns):\n",
        "attributes       10595  non-null values\n",
        "business_id      10595  non-null values\n",
        "categories       10595  non-null values\n",
        "city             10595  non-null values\n",
        "full_address     10595  non-null values\n",
        "hours            10595  non-null values\n",
        "latitude         10595  non-null values\n",
        "longitude        10595  non-null values\n",
        "name             10595  non-null values\n",
        "neighborhoods    10595  non-null values\n",
        "open             10595  non-null values\n",
        "review_count     10595  non-null values\n",
        "stars            10595  non-null values\n",
        "state            10595  non-null values\n",
        "type             10595  non-null values\n",
        "dtypes: bool(1), float64(3), int64(1), object(10)"
       ]
      }
     ],
     "prompt_number": 41
    },
    {
     "cell_type": "code",
     "collapsed": false,
     "input": [
      "dataDf = dataDf[['business_id', 'categories',]]"
     ],
     "language": "python",
     "metadata": {},
     "outputs": [],
     "prompt_number": 42
    },
    {
     "cell_type": "code",
     "collapsed": false,
     "input": [
      "dataDf.categories.nunique()"
     ],
     "language": "python",
     "metadata": {},
     "outputs": [
      {
       "metadata": {},
       "output_type": "pyout",
       "prompt_number": 43,
       "text": [
        "152"
       ]
      }
     ],
     "prompt_number": 43
    },
    {
     "cell_type": "code",
     "collapsed": false,
     "input": [
      "dataDf.to_json( out_dir + 'res-data-c10.json' )"
     ],
     "language": "python",
     "metadata": {},
     "outputs": [],
     "prompt_number": 44
    },
    {
     "cell_type": "heading",
     "level": 4,
     "metadata": {},
     "source": [
      "Join with reviews to get text"
     ]
    },
    {
     "cell_type": "code",
     "collapsed": false,
     "input": [
      "resRevDf = resRevDf[['business_id', 'review_id', 'user_id', 'text']]"
     ],
     "language": "python",
     "metadata": {},
     "outputs": [],
     "prompt_number": 45
    },
    {
     "cell_type": "code",
     "collapsed": false,
     "input": [
      "resRevDf"
     ],
     "language": "python",
     "metadata": {},
     "outputs": [
      {
       "html": [
        "<pre>\n",
        "&lt;class 'pandas.core.frame.DataFrame'&gt;\n",
        "Int64Index: 706646 entries, 8 to 1125452\n",
        "Data columns (total 4 columns):\n",
        "business_id    706646  non-null values\n",
        "review_id      706646  non-null values\n",
        "user_id        706646  non-null values\n",
        "text           706646  non-null values\n",
        "dtypes: object(4)\n",
        "</pre>"
       ],
       "metadata": {},
       "output_type": "pyout",
       "prompt_number": 46,
       "text": [
        "<class 'pandas.core.frame.DataFrame'>\n",
        "Int64Index: 706646 entries, 8 to 1125452\n",
        "Data columns (total 4 columns):\n",
        "business_id    706646  non-null values\n",
        "review_id      706646  non-null values\n",
        "user_id        706646  non-null values\n",
        "text           706646  non-null values\n",
        "dtypes: object(4)"
       ]
      }
     ],
     "prompt_number": 46
    },
    {
     "cell_type": "code",
     "collapsed": false,
     "input": [
      "dataDf = dataDf.merge(resRevDf, on='business_id')"
     ],
     "language": "python",
     "metadata": {},
     "outputs": [],
     "prompt_number": 47
    },
    {
     "cell_type": "code",
     "collapsed": false,
     "input": [
      "dataDf"
     ],
     "language": "python",
     "metadata": {},
     "outputs": [
      {
       "html": [
        "<pre>\n",
        "&lt;class 'pandas.core.frame.DataFrame'&gt;\n",
        "Int64Index: 469749 entries, 0 to 469748\n",
        "Data columns (total 5 columns):\n",
        "business_id    469749  non-null values\n",
        "categories     469749  non-null values\n",
        "review_id      469749  non-null values\n",
        "user_id        469749  non-null values\n",
        "text           469749  non-null values\n",
        "dtypes: object(5)\n",
        "</pre>"
       ],
       "metadata": {},
       "output_type": "pyout",
       "prompt_number": 48,
       "text": [
        "<class 'pandas.core.frame.DataFrame'>\n",
        "Int64Index: 469749 entries, 0 to 469748\n",
        "Data columns (total 5 columns):\n",
        "business_id    469749  non-null values\n",
        "categories     469749  non-null values\n",
        "review_id      469749  non-null values\n",
        "user_id        469749  non-null values\n",
        "text           469749  non-null values\n",
        "dtypes: object(5)"
       ]
      }
     ],
     "prompt_number": 48
    },
    {
     "cell_type": "code",
     "collapsed": false,
     "input": [
      "dataDf.groupby('business_id').size()"
     ],
     "language": "python",
     "metadata": {},
     "outputs": [
      {
       "metadata": {},
       "output_type": "pyout",
       "prompt_number": 50,
       "text": [
        "business_id\n",
        "--5jkZ3-nUPZxUvtcbr8Uw     39\n",
        "--jFTZmywe7StuZ2hEjxyA      3\n",
        "--qeSYxyn62mMjWvznNTdg      3\n",
        "--zgHBiQpr8H2ZqSdGmguQ      5\n",
        "-0HGqwlfw3I8nkJyMHxAsQ      4\n",
        "-0bUDim5OGuv8R0Qqq6J4A      8\n",
        "-0bl9EllYlei__4dl1W00Q      4\n",
        "-1BzcQK-HDA6LVOThHMpsw     10\n",
        "-1ERbsOf9XOC9wGbZYFr7g    110\n",
        "-1qDklczWpxON-3_Nj9NgA      4\n",
        "-2gyHPSL8pJjkSe5Ozzw6Q     29\n",
        "-2n-OHbbwIv3SY8RP9bgTQ    568\n",
        "-347ffrUUMrn26J2VGf5bA      7\n",
        "-36CwMJZJigqPMYrx9BJzw     70\n",
        "-3WVw1TNQbPBzaKCaQQ1AQ    204\n",
        "...\n",
        "zpDJ3kZohKJWKsT3O8yi0A      22\n",
        "zpsDyx9wh7LYjtBLTpu_-w      20\n",
        "zr6Ic3XVUYSKzoJoXjAz-g       5\n",
        "zrYGuOyAgBO-oK6t9GPLuQ       9\n",
        "zr_0BWhRVFcv2lvOJZb6RQ      13\n",
        "zsWJEyP8YyJkux0muGtiVw     136\n",
        "zt1TpTuJ6y9n551sw9TaEg    3011\n",
        "zwFpOl3BNBazrdXynuQb-A       5\n",
        "zwJX3eetOhpi-gv4-E4rcQ       4\n",
        "zwToyWL4dT1clsFPK9wI2w     105\n",
        "zxqvU415r_RtZRKDtdbIKQ     113\n",
        "zyI8_HQPEwkJ22WMb9ILVQ      16\n",
        "zyvujnBGGpG3WWiDPkil9w      58\n",
        "zzUUj9BUNn0_0F5hwy7RRw       7\n",
        "zzhzW3DImwhSwpcK1Yuy7Q      14\n",
        "Length: 10562, dtype: int64"
       ]
      }
     ],
     "prompt_number": 50
    },
    {
     "cell_type": "code",
     "collapsed": false,
     "input": [
      "dataDf.categories.nunique()"
     ],
     "language": "python",
     "metadata": {},
     "outputs": [
      {
       "metadata": {},
       "output_type": "pyout",
       "prompt_number": 51,
       "text": [
        "152"
       ]
      }
     ],
     "prompt_number": 51
    },
    {
     "cell_type": "code",
     "collapsed": false,
     "input": [
      "rev_cat_size = dataDf.groupby('categories').size()"
     ],
     "language": "python",
     "metadata": {},
     "outputs": [],
     "prompt_number": 52
    },
    {
     "cell_type": "code",
     "collapsed": false,
     "input": [
      "rev_cat_size.sort(ascending=False)\n",
      "rev_cat_size"
     ],
     "language": "python",
     "metadata": {},
     "outputs": [
      {
       "metadata": {},
       "output_type": "pyout",
       "prompt_number": 53,
       "text": [
        "categories\n",
        "(Mexican,)                   47203\n",
        "(Buffets,)                   22660\n",
        "(Italian,)                   20103\n",
        "(American (New),)            19247\n",
        "(Pizza,)                     18731\n",
        "(American (Traditional),)    18424\n",
        "(Chinese,)                   17191\n",
        "(Japanese, Sushi Bars)       16799\n",
        "(Italian, Pizza)             14281\n",
        "(Steakhouses,)               13879\n",
        "(Thai,)                      13585\n",
        "(Burgers,)                   11776\n",
        "(Sandwiches,)                11166\n",
        "(Breakfast & Brunch,)         8548\n",
        "(Sushi Bars,)                 8201\n",
        "...\n",
        "(Ethiopian,)                                    317\n",
        "(American (Traditional), Bakeries, Food)        314\n",
        "(Chinese, Fast Food)                            300\n",
        "(Fast Food, Food, Ice Cream & Frozen Yogurt)    237\n",
        "(Chicken Wings, Fast Food)                      224\n",
        "(Soul Food,)                                    215\n",
        "(Fish & Chips,)                                 182\n",
        "(Buffets, Pizza)                                178\n",
        "(Fast Food, Pizza)                              176\n",
        "(Chinese, Japanese)                             170\n",
        "(Turkish,)                                      170\n",
        "(Food Stands,)                                  142\n",
        "(Delis, Pizza)                                  141\n",
        "(Nightlife,)                                    130\n",
        "(Coffee & Tea, Fast Food, Food)                  71\n",
        "Length: 152, dtype: int64"
       ]
      }
     ],
     "prompt_number": 53
    },
    {
     "cell_type": "code",
     "collapsed": false,
     "input": [
      "# Backup\n",
      "dataDf1 = dataDf.copy()"
     ],
     "language": "python",
     "metadata": {},
     "outputs": [],
     "prompt_number": 54
    },
    {
     "cell_type": "heading",
     "level": 3,
     "metadata": {},
     "source": [
      "Task1: Clustering"
     ]
    },
    {
     "cell_type": "heading",
     "level": 4,
     "metadata": {},
     "source": [
      "Create a dictionary to map the categories to id."
     ]
    },
    {
     "cell_type": "code",
     "collapsed": false,
     "input": [
      "catDict = dict()\n",
      "catMap = dict()\n",
      "num = 1\n",
      "for c in dataDf1.categories.unique():\n",
      "    cid = 'c' + str(num)\n",
      "    catDict[cid] = c\n",
      "    catMap[c] = cid\n",
      "    num += 1\n",
      "\n",
      "import pickle\n",
      "with open('categories-map2.txt', 'wb') as f:\n",
      "    pickle.dump(catDict, f)"
     ],
     "language": "python",
     "metadata": {},
     "outputs": [],
     "prompt_number": 55
    },
    {
     "cell_type": "code",
     "collapsed": false,
     "input": [
      "import csv\n",
      "writer = csv.writer(open( out_dir + 'cat-dict_2.csv', 'wb'))\n",
      "for key, value in catDict.items():\n",
      "   writer.writerow([key, value])"
     ],
     "language": "python",
     "metadata": {},
     "outputs": [],
     "prompt_number": 57
    },
    {
     "cell_type": "code",
     "collapsed": false,
     "input": [
      "dataDf1.categories = dataDf1.categories.apply(lambda x: catMap.get(x))"
     ],
     "language": "python",
     "metadata": {},
     "outputs": [],
     "prompt_number": 58
    },
    {
     "cell_type": "code",
     "collapsed": false,
     "input": [
      "dataDf1.categories"
     ],
     "language": "python",
     "metadata": {},
     "outputs": [
      {
       "metadata": {},
       "output_type": "pyout",
       "prompt_number": 62,
       "text": [
        "0     c1\n",
        "1     c1\n",
        "2     c1\n",
        "3     c1\n",
        "4     c1\n",
        "5     c1\n",
        "6     c1\n",
        "7     c1\n",
        "8     c1\n",
        "9     c1\n",
        "10    c1\n",
        "11    c1\n",
        "12    c1\n",
        "13    c2\n",
        "14    c2\n",
        "...\n",
        "469734    c15\n",
        "469735    c15\n",
        "469736    c15\n",
        "469737    c15\n",
        "469738    c15\n",
        "469739    c15\n",
        "469740    c15\n",
        "469741    c15\n",
        "469742    c15\n",
        "469743    c15\n",
        "469744    c15\n",
        "469745    c15\n",
        "469746    c15\n",
        "469747    c15\n",
        "469748    c15\n",
        "Name: categories, Length: 469749, dtype: object"
       ]
      }
     ],
     "prompt_number": 62
    },
    {
     "cell_type": "heading",
     "level": 4,
     "metadata": {},
     "source": [
      "Group by category"
     ]
    },
    {
     "cell_type": "code",
     "collapsed": false,
     "input": [
      "cat_grouped = dataDf1.groupby('categories')\n",
      "cat_rev_size = cat_grouped.size()"
     ],
     "language": "python",
     "metadata": {},
     "outputs": [],
     "prompt_number": 63
    },
    {
     "cell_type": "code",
     "collapsed": false,
     "input": [
      "cat_rev_size.sort(ascending=False)\n",
      "cat_rev_size"
     ],
     "language": "python",
     "metadata": {},
     "outputs": [
      {
       "metadata": {},
       "output_type": "pyout",
       "prompt_number": 64,
       "text": [
        "categories\n",
        "c6            47203\n",
        "c60           22660\n",
        "c14           20103\n",
        "c15           19247\n",
        "c5            18731\n",
        "c1            18424\n",
        "c3            17191\n",
        "c67           16799\n",
        "c34           14281\n",
        "c26           13879\n",
        "c40           13585\n",
        "c16           11776\n",
        "c38           11166\n",
        "c12            8548\n",
        "c113           8201\n",
        "...\n",
        "c141          317\n",
        "c55           314\n",
        "c103          300\n",
        "c2            237\n",
        "c36           224\n",
        "c140          215\n",
        "c94           182\n",
        "c77           178\n",
        "c83           176\n",
        "c146          170\n",
        "c99           170\n",
        "c142          142\n",
        "c150          141\n",
        "c59           130\n",
        "c143           71\n",
        "Length: 152, dtype: int64"
       ]
      }
     ],
     "prompt_number": 64
    },
    {
     "cell_type": "heading",
     "level": 4,
     "metadata": {},
     "source": [
      "Split data to train, validation, test set"
     ]
    },
    {
     "cell_type": "code",
     "collapsed": false,
     "input": [
      "import pickle\n",
      "for cat, group in cat_grouped:\n",
      "    group.text = group.text.apply(lambda (x): x.encode('utf-8').replace(\"\\n\", \" \") + \" \")\n",
      "    num = len(group)\n",
      "    tidx = round(num*0.6)\n",
      "    vidx = round(num*0.2)\n",
      "    \n",
      "    train = group[:tidx]\n",
      "    val = group[tidx:tidx+vidx]\n",
      "    test = group[tidx+vidx:]\n",
      "    #print cat, num, len(train), len(val), len(test)\n",
      "    \n",
      "    with open('../clustering/train/' + str(cat), 'wb') as f1:\n",
      "        f1.write(train.text.sum())\n",
      "    with open('../classification/train/' + str(cat), 'wb') as f1_:\n",
      "        pickle.dump(train.text.values, f1_)\n",
      "    \n",
      "    with open('../clustering/validation/' + str(cat), 'wb') as f2:\n",
      "        pickle.dump(val.text.values, f2)\n",
      "    with open('../classification/validation/' + str(cat), 'wb') as f2_:\n",
      "        pickle.dump(val.text.values, f2_)\n",
      "        \n",
      "    with open('../clustering/test/' + str(cat), 'wb') as f3:\n",
      "        pickle.dump(test.text.values, f3)\n",
      "    with open('../classification/test/' + str(cat), 'wb') as f3_:\n",
      "        pickle.dump(test.text.values, f3_)"
     ],
     "language": "python",
     "metadata": {},
     "outputs": [],
     "prompt_number": 81
    },
    {
     "cell_type": "heading",
     "level": 3,
     "metadata": {},
     "source": [
      "Classification task"
     ]
    },
    {
     "cell_type": "code",
     "collapsed": false,
     "input": [
      "# Sort cat_grouped by size first and select only top 25 categories\n",
      "cat_group_sorted = sorted(cat_grouped, key=lambda x: len(x[1]), reverse=True)\n",
      "print cat_group_sorted[:25]"
     ],
     "language": "python",
     "metadata": {},
     "outputs": [
      {
       "output_type": "stream",
       "stream": "stdout",
       "text": [
        "[('c6', <class 'pandas.core.frame.DataFrame'>\n",
        "Int64Index: 47203 entries, 97 to 469572\n",
        "Data columns (total 5 columns):\n",
        "business_id    47203  non-null values\n",
        "categories     47203  non-null values\n",
        "review_id      47203  non-null values\n",
        "user_id        47203  non-null values\n",
        "text           47203  non-null values\n",
        "dtypes: object(5)), ('c60', <class 'pandas.core.frame.DataFrame'>\n",
        "Int64Index: 22660 entries, 5386 to 466584\n",
        "Data columns (total 5 columns):\n",
        "business_id    22660  non-null values\n",
        "categories     22660  non-null values\n",
        "review_id      22660  non-null values\n",
        "user_id        22660  non-null values\n",
        "text           22660  non-null values\n",
        "dtypes: object(5)), ('c14', <class 'pandas.core.frame.DataFrame'>\n",
        "Int64Index: 20103 entries, 297 to 469696\n",
        "Data columns (total 5 columns):\n",
        "business_id    20103  non-null values\n",
        "categories     20103  non-null values\n",
        "review_id      20103  non-null values\n",
        "user_id        20103  non-null values\n",
        "text           20103  non-null values\n",
        "dtypes: object(5)), ('c15', <class 'pandas.core.frame.DataFrame'>\n",
        "Int64Index: 19247 entries, 346 to 469748\n",
        "Data columns (total 5 columns):\n",
        "business_id    19247  non-null values\n",
        "categories     19247  non-null values\n",
        "review_id      19247  non-null values\n",
        "user_id        19247  non-null values\n",
        "text           19247  non-null values\n",
        "dtypes: object(5)), ('c5', <class 'pandas.core.frame.DataFrame'>\n",
        "Int64Index: 18731 entries, 85 to 469691\n",
        "Data columns (total 5 columns):\n",
        "business_id    18731  non-null values\n",
        "categories     18731  non-null values\n",
        "review_id      18731  non-null values\n",
        "user_id        18731  non-null values\n",
        "text           18731  non-null values\n",
        "dtypes: object(5)), ('c1', <class 'pandas.core.frame.DataFrame'>\n",
        "Int64Index: 18424 entries, 0 to 469445\n",
        "Data columns (total 5 columns):\n",
        "business_id    18424  non-null values\n",
        "categories     18424  non-null values\n",
        "review_id      18424  non-null values\n",
        "user_id        18424  non-null values\n",
        "text           18424  non-null values\n",
        "dtypes: object(5)), ('c3', <class 'pandas.core.frame.DataFrame'>\n",
        "Int64Index: 17191 entries, 21 to 469213\n",
        "Data columns (total 5 columns):\n",
        "business_id    17191  non-null values\n",
        "categories     17191  non-null values\n",
        "review_id      17191  non-null values\n",
        "user_id        17191  non-null values\n",
        "text           17191  non-null values\n",
        "dtypes: object(5)), ('c67', <class 'pandas.core.frame.DataFrame'>\n",
        "Int64Index: 16799 entries, 8049 to 468869\n",
        "Data columns (total 5 columns):\n",
        "business_id    16799  non-null values\n",
        "categories     16799  non-null values\n",
        "review_id      16799  non-null values\n",
        "user_id        16799  non-null values\n",
        "text           16799  non-null values\n",
        "dtypes: object(5)), ('c34', <class 'pandas.core.frame.DataFrame'>\n",
        "Int64Index: 14281 entries, 1365 to 469305\n",
        "Data columns (total 5 columns):\n",
        "business_id    14281  non-null values\n",
        "categories     14281  non-null values\n",
        "review_id      14281  non-null values\n",
        "user_id        14281  non-null values\n",
        "text           14281  non-null values\n",
        "dtypes: object(5)), ('c26', <class 'pandas.core.frame.DataFrame'>\n",
        "Int64Index: 13879 entries, 1079 to 469684\n",
        "Data columns (total 5 columns):\n",
        "business_id    13879  non-null values\n",
        "categories     13879  non-null values\n",
        "review_id      13879  non-null values\n",
        "user_id        13879  non-null values\n",
        "text           13879  non-null values\n",
        "dtypes: object(5)), ('c40', <class 'pandas.core.frame.DataFrame'>\n",
        "Int64Index: 13585 entries, 1596 to 469653\n",
        "Data columns (total 5 columns):\n",
        "business_id    13585  non-null values\n",
        "categories     13585  non-null values\n",
        "review_id      13585  non-null values\n",
        "user_id        13585  non-null values\n",
        "text           13585  non-null values\n",
        "dtypes: object(5)), ('c16', <class 'pandas.core.frame.DataFrame'>\n",
        "Int64Index: 11776 entries, 362 to 469722\n",
        "Data columns (total 5 columns):\n",
        "business_id    11776  non-null values\n",
        "categories     11776  non-null values\n",
        "review_id      11776  non-null values\n",
        "user_id        11776  non-null values\n",
        "text           11776  non-null values\n",
        "dtypes: object(5)), ('c38', <class 'pandas.core.frame.DataFrame'>\n",
        "Int64Index: 11166 entries, 1567 to 469035\n",
        "Data columns (total 5 columns):\n",
        "business_id    11166  non-null values\n",
        "categories     11166  non-null values\n",
        "review_id      11166  non-null values\n",
        "user_id        11166  non-null values\n",
        "text           11166  non-null values\n",
        "dtypes: object(5)), ('c12', <class 'pandas.core.frame.DataFrame'>\n",
        "Int64Index: 8548 entries, 221 to 468662\n",
        "Data columns (total 5 columns):\n",
        "business_id    8548  non-null values\n",
        "categories     8548  non-null values\n",
        "review_id      8548  non-null values\n",
        "user_id        8548  non-null values\n",
        "text           8548  non-null values\n",
        "dtypes: object(5)), ('c113', <class 'pandas.core.frame.DataFrame'>\n",
        "Int64Index: 8201 entries, 28091 to 469707\n",
        "Data columns (total 5 columns):\n",
        "business_id    8201  non-null values\n",
        "categories     8201  non-null values\n",
        "review_id      8201  non-null values\n",
        "user_id        8201  non-null values\n",
        "text           8201  non-null values\n",
        "dtypes: object(5)), ('c98', <class 'pandas.core.frame.DataFrame'>\n",
        "Int64Index: 8117 entries, 20162 to 469712\n",
        "Data columns (total 5 columns):\n",
        "business_id    8117  non-null values\n",
        "categories     8117  non-null values\n",
        "review_id      8117  non-null values\n",
        "user_id        8117  non-null values\n",
        "text           8117  non-null values\n",
        "dtypes: object(5)), ('c20', <class 'pandas.core.frame.DataFrame'>\n",
        "Int64Index: 7653 entries, 664 to 469676\n",
        "Data columns (total 5 columns):\n",
        "business_id    7653  non-null values\n",
        "categories     7653  non-null values\n",
        "review_id      7653  non-null values\n",
        "user_id        7653  non-null values\n",
        "text           7653  non-null values\n",
        "dtypes: object(5)), ('c95', <class 'pandas.core.frame.DataFrame'>\n",
        "Int64Index: 6065 entries, 17375 to 469714\n",
        "Data columns (total 5 columns):\n",
        "business_id    6065  non-null values\n",
        "categories     6065  non-null values\n",
        "review_id      6065  non-null values\n",
        "user_id        6065  non-null values\n",
        "text           6065  non-null values\n",
        "dtypes: object(5)), ('c29', <class 'pandas.core.frame.DataFrame'>\n",
        "Int64Index: 5888 entries, 1169 to 469545\n",
        "Data columns (total 5 columns):\n",
        "business_id    5888  non-null values\n",
        "categories     5888  non-null values\n",
        "review_id      5888  non-null values\n",
        "user_id        5888  non-null values\n",
        "text           5888  non-null values\n",
        "dtypes: object(5)), ('c49', <class 'pandas.core.frame.DataFrame'>\n",
        "Int64Index: 5785 entries, 3364 to 465906\n",
        "Data columns (total 5 columns):\n",
        "business_id    5785  non-null values\n",
        "categories     5785  non-null values\n",
        "review_id      5785  non-null values\n",
        "user_id        5785  non-null values\n",
        "text           5785  non-null values\n",
        "dtypes: object(5)), ('c74', <class 'pandas.core.frame.DataFrame'>\n",
        "Int64Index: 5396 entries, 10206 to 468707\n",
        "Data columns (total 5 columns):\n",
        "business_id    5396  non-null values\n",
        "categories     5396  non-null values\n",
        "review_id      5396  non-null values\n",
        "user_id        5396  non-null values\n",
        "text           5396  non-null values\n",
        "dtypes: object(5)), ('c10', <class 'pandas.core.frame.DataFrame'>\n",
        "Int64Index: 5384 entries, 165 to 469237\n",
        "Data columns (total 5 columns):\n",
        "business_id    5384  non-null values\n",
        "categories     5384  non-null values\n",
        "review_id      5384  non-null values\n",
        "user_id        5384  non-null values\n",
        "text           5384  non-null values\n",
        "dtypes: object(5)), ('c66', <class 'pandas.core.frame.DataFrame'>\n",
        "Int64Index: 4684 entries, 7476 to 463779\n",
        "Data columns (total 5 columns):\n",
        "business_id    4684  non-null values\n",
        "categories     4684  non-null values\n",
        "review_id      4684  non-null values\n",
        "user_id        4684  non-null values\n",
        "text           4684  non-null values\n",
        "dtypes: object(5)), ('c76', <class 'pandas.core.frame.DataFrame'>\n",
        "Int64Index: 4506 entries, 10825 to 467362\n",
        "Data columns (total 5 columns):\n",
        "business_id    4506  non-null values\n",
        "categories     4506  non-null values\n",
        "review_id      4506  non-null values\n",
        "user_id        4506  non-null values\n",
        "text           4506  non-null values\n",
        "dtypes: object(5)), ('c45', <class 'pandas.core.frame.DataFrame'>\n",
        "Int64Index: 4159 entries, 2745 to 469430\n",
        "Data columns (total 5 columns):\n",
        "business_id    4159  non-null values\n",
        "categories     4159  non-null values\n",
        "review_id      4159  non-null values\n",
        "user_id        4159  non-null values\n",
        "text           4159  non-null values\n",
        "dtypes: object(5))]\n"
       ]
      }
     ],
     "prompt_number": 68
    },
    {
     "cell_type": "code",
     "collapsed": false,
     "input": [
      "import pickle\n",
      "for cat, group in cat_group_sorted[:25]:\n",
      "    group.text = group.text.apply(lambda (x): x.encode('utf-8').replace(\"\\n\", \" \"))\n",
      "    num = len(group)\n",
      "    tidx = round(num*0.6)\n",
      "    vidx = round(num*0.2)\n",
      "    \n",
      "    train = group[:tidx]\n",
      "    val = group[tidx:tidx+vidx]\n",
      "    test = group[tidx+vidx:]\n",
      "    #print cat, num, len(train), len(val), len(test)\n",
      "    \n",
      "    with open('../clustering/c25/train/' + str(cat), 'wb') as f1:\n",
      "        f1.write(train.text.sum())\n",
      "    with open('../classification/train/25-categories' + str(cat), 'wb') as f1_:\n",
      "        pickle.dump(train.text.values, f1_)\n",
      "    \n",
      "    with open('../clustering/c25/validation/' + str(cat), 'wb') as f2:\n",
      "        pickle.dump(val.text.values, f2)\n",
      "    with open('../classification/validation/25-categories' + str(cat), 'wb') as f2_:\n",
      "        pickle.dump(val.text.values, f2_)\n",
      "    \n",
      "    with open('../clustering/c25/test/' + str(cat), 'wb') as f3:\n",
      "        pickle.dump(test.text.values, f3)\n",
      "    with open('../classification/test/25-categories' + str(cat), 'wb') as f3_:\n",
      "        pickle.dump(test.text.values, f3_)"
     ],
     "language": "python",
     "metadata": {},
     "outputs": [],
     "prompt_number": 70
    },
    {
     "cell_type": "code",
     "collapsed": false,
     "input": [],
     "language": "python",
     "metadata": {},
     "outputs": []
    }
   ],
   "metadata": {}
  }
 ]
}